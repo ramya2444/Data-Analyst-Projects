{
 "cells": [
  {
   "cell_type": "markdown",
   "id": "f8115a2e-c71b-4445-91c8-5574a6d316cc",
   "metadata": {},
   "source": [
    "E-Commerce Return Risk Prediction :\n",
    "=================================\n",
    "\n",
    "Introduction :\n",
    "-------------\n",
    "In e-commerce, product returns can significantly affect profit margins and logistics efficiency. Identifying which orders are likely to be returned helps businesses proactively manage operations, improve product listings, and reduce unnecessary costs. This project focuses on building a predictive model to classify return risk based on customer, product, and transaction features.\n",
    "\n",
    "Abstract :\n",
    "---------\n",
    "Using a synthetic dataset of 10,000 e-commerce transactions, this project aims to predict the likelihood of a product being returned. The dataset includes user demographics, order information, product category, price, quantity, and shipping/payment methods. After data cleaning and feature engineering, an XGBoost classifier was trained, achieving a high accuracy score. The model was used to assign a return probability to each order and segment them into low, medium, and high risk.\n",
    "\n",
    "Tools Used :\n",
    "-----------\n",
    "- Python (Pandas, Seaborn, Matplotlib, Scikit-learn, XGBoost)\n",
    "- SQL via pandasql\n",
    "- Power BI for dashboard visualization\n",
    "- Jupyter Notebook\n",
    "\n",
    "Steps Involved in Building the Project :\n",
    "---------------------------------------\n",
    "1. **Data Cleaning**:\n",
    "   - Parsed order and return dates\n",
    "   - Filled missing values for return reason and days to return\n",
    "   - Created binary return label based on presence of return date\n",
    "\n",
    "2. **EDA and SQL Analysis**:\n",
    "   - Used SQL queries (via pandasql) to identify categories with high return rates\n",
    "   - Visualized return rates by category and product price\n",
    "\n",
    "3. **Feature Engineering**:\n",
    "   - Encoded categorical variables using one-hot encoding\n",
    "   - Created target variable: Return_Status (1 = Returned, 0 = Not Returned)\n",
    "\n",
    "4. **Model Building**:\n",
    "   - Trained an XGBoost classifier on the encoded dataset\n",
    "   - Achieved 100% accuracy on test data (likely due to clean synthetic data)\n",
    "   - Evaluated with confusion matrix, classification report, and ROC curve\n",
    "\n",
    "5. **Segmentation and Output**:\n",
    "   - Generated return probability for each order\n",
    "   - Segmented orders into:\n",
    "     - Low Risk (0–30%)\n",
    "     - Medium Risk (30–70%)\n",
    "     - High Risk (70–100%)\n",
    "   - Exported predictions for dashboard use\n",
    "\n",
    "Conclusion :\n",
    "-----------\n",
    "The model accurately predicted product returns and provided business-ready insights for decision-making. By identifying high-risk return segments, the company can refine product descriptions, manage inventory better, and optimize logistics. The final dataset integrates seamlessly into Power BI dashboards, enabling real-time tracking of return risks by product category, region, and price. This solution supports strategic interventions to reduce return volume and enhance customer satisfaction.\n"
   ]
  }
 ],
 "metadata": {
  "kernelspec": {
   "display_name": "Python 3 (ipykernel)",
   "language": "python",
   "name": "python3"
  },
  "language_info": {
   "codemirror_mode": {
    "name": "ipython",
    "version": 3
   },
   "file_extension": ".py",
   "mimetype": "text/x-python",
   "name": "python",
   "nbconvert_exporter": "python",
   "pygments_lexer": "ipython3",
   "version": "3.12.7"
  }
 },
 "nbformat": 4,
 "nbformat_minor": 5
}
