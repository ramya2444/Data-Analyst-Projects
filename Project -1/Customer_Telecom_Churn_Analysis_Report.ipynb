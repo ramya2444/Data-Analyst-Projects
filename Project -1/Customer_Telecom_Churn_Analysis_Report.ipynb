{
 "cells": [
  {
   "cell_type": "markdown",
   "id": "e05b70a8-da2a-4613-ae4f-6f2a74c6df4e",
   "metadata": {},
   "source": [
    "Customer Churn Analysis in the Telecom Industry :\n",
    "===============================================\n",
    "\n",
    "Introduction :\n",
    "-------------\n",
    "In the highly competitive telecom sector, customer retention is vital to maintaining revenue and market position. This project focuses on analyzing customer behavior to predict churn — the likelihood of customers discontinuing their service. By identifying high-risk customers, telecom companies can take proactive steps to reduce churn and enhance satisfaction.\n",
    "\n",
    "Abstract :\n",
    "---------\n",
    "The goal of this project was to predict customer churn using a real-world telecom dataset of 3,333 records. The data includes customer service usage patterns such as call minutes, charges, complaints, and service plans. A Random Forest Classifier was built to predict churn, followed by churn probability-based segmentation. Exploratory Data Analysis (EDA) and model interpretation using ELI5 helped identify top churn drivers including complaints, total charges, and international plan usage. Based on churn probabilities, customers were segmented into risk categories for targeted retention strategies.\n",
    "\n",
    "Tools Used :\n",
    "-----------\n",
    "- Python (Pandas, Matplotlib, Seaborn, Scikit-learn)\n",
    "- SQL (used offline for aggregations)\n",
    "- ELI5 (for model explainability)\n",
    "- Jupyter Notebook\n",
    "- PowerPoint (for business presentation)\n",
    "\n",
    "Steps Involved in Building the Project :\n",
    "---------------------------------------\n",
    "1. **Data Preprocessing**:\n",
    "   - Removed irrelevant columns like 'phone number' and 'state'\n",
    "   - Encoded categorical features using LabelEncoder\n",
    "   - Created new features: total_calls, total_minutes, total_charges\n",
    "\n",
    "2. **Exploratory Data Analysis (EDA)**:\n",
    "   - Analyzed churn distribution, complaints, and call behaviors\n",
    "   - Found higher churn rates among international plan users and those with more complaints\n",
    "\n",
    "3. **Model Building**:\n",
    "   - Used Random Forest Classifier with 80/20 train-test split\n",
    "   - Achieved 97.45% accuracy\n",
    "   - Evaluated with confusion matrix and classification report\n",
    "\n",
    "4. **Model Explainability**:\n",
    "   - Used ELI5 to understand which features had the greatest influence on churn predictions\n",
    "   - Top features: total_charges, complaints, international_plan\n",
    "\n",
    "5. **Customer Segmentation**:\n",
    "   - Used predicted churn probabilities to categorize customers:\n",
    "     - At Risk: churn_prob > 0.7\n",
    "     - Loyal: 0.3 ≤ churn_prob ≤ 0.7\n",
    "     - Dormant: churn_prob < 0.3\n",
    "   - Exported results to churn_segments.csv\n",
    "\n",
    "Conclusion :\n",
    "-----------\n",
    "The project successfully identified key behavioral and service-related indicators of churn using a machine learning model. With a high accuracy rate and meaningful feature explanations, the model enables business teams to implement precise, data-driven retention strategies. Segmenting customers based on churn probability allows targeted interventions, particularly for high-risk users, improving overall customer lifetime value.\n"
   ]
  }
 ],
 "metadata": {
  "kernelspec": {
   "display_name": "Python 3 (ipykernel)",
   "language": "python",
   "name": "python3"
  },
  "language_info": {
   "codemirror_mode": {
    "name": "ipython",
    "version": 3
   },
   "file_extension": ".py",
   "mimetype": "text/x-python",
   "name": "python",
   "nbconvert_exporter": "python",
   "pygments_lexer": "ipython3",
   "version": "3.12.7"
  }
 },
 "nbformat": 4,
 "nbformat_minor": 5
}
